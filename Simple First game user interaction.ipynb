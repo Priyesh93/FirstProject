{
 "cells": [
  {
   "cell_type": "code",
   "execution_count": 1,
   "id": "2d139cbf",
   "metadata": {},
   "outputs": [],
   "source": [
    "game_list = [0,1,2]"
   ]
  },
  {
   "cell_type": "code",
   "execution_count": 2,
   "id": "c5b945a2",
   "metadata": {},
   "outputs": [],
   "source": [
    "def display_game(game_list):\n",
    "    print('Here is the current list')\n",
    "    print(game_list)"
   ]
  },
  {
   "cell_type": "code",
   "execution_count": 3,
   "id": "a17dd3a8",
   "metadata": {},
   "outputs": [],
   "source": [
    "def position_choice():\n",
    "    \n",
    "    # This original choice can be anything that is not an integer    \n",
    "    choice = 'wrong'\n",
    "    \n",
    "    # while choice is not a digit keep asking for input     \n",
    "    while choice not in ['0','1','2']:\n",
    "        \n",
    "        # we should not convert here otherwise we get an error on a wrong input\n",
    "        \n",
    "        choice = input('Pick a position to replace (0,1,2): ')\n",
    "        \n",
    "        if choice not in ['0','1','2']:\n",
    "            print (\"Sorry, invalid choice!\")\n",
    "            \n",
    "    return int(choice)\n",
    "        "
   ]
  },
  {
   "cell_type": "code",
   "execution_count": 4,
   "id": "84f6926a",
   "metadata": {},
   "outputs": [],
   "source": [
    "def replacement_choice(game_list,position):\n",
    "    \n",
    "    user_placement = input(\"Type a string to place at position: \")\n",
    "    \n",
    "    game_list[position] = user_placement\n",
    "    \n",
    "    return game_list"
   ]
  },
  {
   "cell_type": "code",
   "execution_count": 5,
   "id": "bd759f77",
   "metadata": {},
   "outputs": [],
   "source": [
    "def gameon_choice():\n",
    "    \n",
    "       \n",
    "    choice = 'wrong'\n",
    "    \n",
    "        \n",
    "    while choice not in ['Y','N']:\n",
    "               \n",
    "        choice = input(\"Keep Playing? Y or N: \")\n",
    "        \n",
    "        if choice not in ['Y','N']:\n",
    "            print (\"Sorry, I do not understand, Please select Y or N \")\n",
    "    \n",
    "    if choice == \"Y\":\n",
    "        return True\n",
    "    else:\n",
    "        return False           \n"
   ]
  },
  {
   "cell_type": "code",
   "execution_count": 7,
   "id": "27e3a990",
   "metadata": {},
   "outputs": [
    {
     "name": "stdout",
     "output_type": "stream",
     "text": [
      "Here is the current list\n",
      "[0, 1, 2]\n",
      "Pick a position to replace (0,1,2): 1\n",
      "Type a string to place at position: new\n",
      "Here is the current list\n",
      "[0, 'new', 2]\n",
      "Keep Playing? Y or N: Y\n",
      "Here is the current list\n",
      "[0, 'new', 2]\n",
      "Pick a position to replace (0,1,2): 0\n",
      "Type a string to place at position: hi\n",
      "Here is the current list\n",
      "['hi', 'new', 2]\n",
      "Keep Playing? Y or N: N\n"
     ]
    }
   ],
   "source": [
    "game_on = True\n",
    "game_list = [0,1,2]\n",
    "\n",
    "while game_on:\n",
    "    \n",
    "    display_game(game_list)\n",
    "    \n",
    "    position = position_choice()\n",
    "    \n",
    "    game_list = replacement_choice(game_list,position)\n",
    "    \n",
    "    display_game(game_list)\n",
    "    \n",
    "    game_on = gameon_choice()"
   ]
  },
  {
   "cell_type": "code",
   "execution_count": null,
   "id": "81e6453c",
   "metadata": {},
   "outputs": [],
   "source": []
  }
 ],
 "metadata": {
  "kernelspec": {
   "display_name": "Python 3",
   "language": "python",
   "name": "python3"
  },
  "language_info": {
   "codemirror_mode": {
    "name": "ipython",
    "version": 3
   },
   "file_extension": ".py",
   "mimetype": "text/x-python",
   "name": "python",
   "nbconvert_exporter": "python",
   "pygments_lexer": "ipython3",
   "version": "3.8.8"
  }
 },
 "nbformat": 4,
 "nbformat_minor": 5
}
